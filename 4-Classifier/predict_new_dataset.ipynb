{
 "cells": [
  {
   "cell_type": "markdown",
   "metadata": {},
   "source": [
    "### Predict a new dataset\n",
    "\n",
    "This notebook goes through the steps to use a trained model to classify new images.\n",
    "\n",
    "Import the necessary packages and modules:"
   ]
  },
  {
   "cell_type": "code",
   "execution_count": 1,
   "metadata": {},
   "outputs": [],
   "source": [
    "import glob\n",
    "\n",
    "import numpy as np\n",
    "import tensorflow as tf\n",
    "from matplotlib import pyplot as plt\n",
    "import pandas as pd\n",
    "from sklearn import metrics\n",
    "import seaborn as sns"
   ]
  },
  {
   "cell_type": "markdown",
   "metadata": {},
   "source": [
    "Check that the installed version of Tensorflow is <= 1.15.5."
   ]
  },
  {
   "cell_type": "code",
   "execution_count": 2,
   "metadata": {},
   "outputs": [
    {
     "data": {
      "text/plain": [
       "'1.15.5'"
      ]
     },
     "execution_count": 2,
     "metadata": {},
     "output_type": "execute_result"
    }
   ],
   "source": [
    "tf.__version__"
   ]
  },
  {
   "cell_type": "markdown",
   "metadata": {},
   "source": [
    "### Normalization\n",
    "The images during the training were normalized to have zero mean and a standard deviation of one. All the images to be classified need to be normalized in the same manner."
   ]
  },
  {
   "cell_type": "code",
   "execution_count": 3,
   "metadata": {},
   "outputs": [],
   "source": [
    "def normalize(x):\n",
    "    xm = x.mean(axis=(1,2), keepdims=True)\n",
    "    sm = x.std(axis=(1,2), keepdims=True)\n",
    "    xn  = (x - xm)/sm\n",
    "    return xn"
   ]
  },
  {
   "cell_type": "markdown",
   "metadata": {},
   "source": [
    "### Load images\n",
    "\n",
    "Load images from numpy files. To convert from tiff files into a numpy file, see the\n",
    "[Image preprocessing](image_preprocessing.ipynb) notebook.\n",
    "\n",
    "A list of numpy files in a folder is created, and one of them is opened to display an image. The list of files will be used for classification below."
   ]
  },
  {
   "cell_type": "code",
   "execution_count": null,
   "metadata": {},
   "outputs": [],
   "source": [
    "npfiles = sorted(glob.glob('Data/Male/npfiles/*.npy'))\n",
    "\n",
    "data = np.load(npfiles[2])\n",
    "data = normalize(data)"
   ]
  },
  {
   "cell_type": "markdown",
   "metadata": {},
   "source": [
    "### Display images\n",
    "\n",
    "Example images can be displayed to make sure they are loaded properly."
   ]
  },
  {
   "cell_type": "code",
   "execution_count": 6,
   "metadata": {},
   "outputs": [
    {
     "name": "stdout",
     "output_type": "stream",
     "text": [
      "(4773, 64, 64, 3)\n"
     ]
    },
    {
     "data": {
      "text/plain": [
       "(array([-24.728376 ,  -1.6595844,  -1.6212324], dtype=float32),\n",
       " array([31.560041, 43.219425, 22.417572], dtype=float32),\n",
       " array([-8.6545418e-07, -2.0546072e-07, -2.0219151e-08], dtype=float32))"
      ]
     },
     "execution_count": 6,
     "metadata": {},
     "output_type": "execute_result"
    },
    {
     "data": {
      "image/png": "[encoded data removed]",
      "text/plain": [
       "<Figure size 432x144 with 3 Axes>"
      ]
     },
     "metadata": {
      "needs_background": "light"
     },
     "output_type": "display_data"
    }
   ],
   "source": [
    "plt.figure(figsize=(6,2))\n",
    "plt.subplot(1,3,1)\n",
    "plt.imshow(data[2567,:,:,0], cmap='gray')\n",
    "plt.subplot(1,3,2)\n",
    "plt.imshow(data[2567,:,:,1])\n",
    "plt.subplot(1,3,3)\n",
    "plt.imshow(data[2567,:,:,2], cmap='inferno')\n",
    "\n",
    "print(data.shape)\n",
    "data.min(axis=(0,1,2)), data.max(axis=(0,1,2)), data.mean(axis=(0,1,2))"
   ]
  },
  {
   "cell_type": "markdown",
   "metadata": {},
   "source": [
    "### Load the Tensorflow checkpoint\n",
    "\n",
    "The Tensorflow checkpoint saved during the training is loaded into the Tensorflow session. The input into the network is the `images` variable, and the output probabilities from the network are the variable `softmax`."
   ]
  },
  {
   "cell_type": "code",
   "execution_count": 7,
   "metadata": {
    "tags": []
   },
   "outputs": [
    {
     "name": "stdout",
     "output_type": "stream",
     "text": [
      "INFO:tensorflow:Restoring parameters from Checkpoints/test/cp-2021-05-04-16-07/checkpoint-24999\n"
     ]
    }
   ],
   "source": [
    "\n",
    "checkpoint = 'Checkpoints/test/cp-2021-05-04-16-07/checkpoint-24999'\n",
    "tf.reset_default_graph()\n",
    "sess = tf.Session()\n",
    "\n",
    "cpmeta = checkpoint + '.meta'\n",
    "saver = tf.train.import_meta_graph(cpmeta)\n",
    "saver.restore(sess, checkpoint)\n",
    "\n",
    "softmax = sess.graph.get_tensor_by_name('Softmax:0')\n",
    "images = sess.graph.get_tensor_by_name('Placeholder:0')"
   ]
  },
  {
   "cell_type": "markdown",
   "metadata": {},
   "source": [
    "### Image and softmax info\n",
    "\n",
    "Print the objects `images` and `softmax` to see sizes and types."
   ]
  },
  {
   "cell_type": "code",
   "execution_count": 9,
   "metadata": {},
   "outputs": [
    {
     "data": {
      "text/plain": [
       "(<tf.Tensor 'Placeholder:0' shape=(?, 32, 32, 3) dtype=float32>,\n",
       " <tf.Tensor 'Softmax:0' shape=(?, 7) dtype=float32>)"
      ]
     },
     "execution_count": 9,
     "metadata": {},
     "output_type": "execute_result"
    }
   ],
   "source": [
    "images, softmax"
   ]
  },
  {
   "cell_type": "markdown",
   "metadata": {},
   "source": [
    "### Classify images\n",
    "\n",
    "Iterate over all numpy files and run the classifier on the images in each one. The output of the cell below will be a pandas dataframe with the prediction for all images."
   ]
  },
  {
   "cell_type": "code",
   "execution_count": 11,
   "metadata": {},
   "outputs": [
    {
     "name": "stdout",
     "output_type": "stream",
     "text": [
      "Data/Male/npfiles/Tifs_Snail_Male_R1.npy (6832, 32, 32, 3)\n",
      "Data/Male/npfiles/Tifs_Snail_Male_R2.npy (7225, 32, 32, 3)\n",
      "Data/Male/npfiles/Tifs_Snail_Male_R3.npy (4773, 32, 32, 3)\n",
      "Data/Male/npfiles/Tifs_Snail_Male_R4.npy (5917, 32, 32, 3)\n",
      "Data/Male/npfiles/Tifs_Snail_Male_R5.npy (7755, 32, 32, 3)\n"
     ]
    }
   ],
   "source": [
    "df_list = list()\n",
    "\n",
    "for f in npfiles:\n",
    "    s = slice(16, 48)\n",
    "    _data = normalize(np.load(f))[:, s, s, :]\n",
    "    #_data = (np.load(f))[:, s, s, :]\n",
    "    print(f, _data.shape)\n",
    "    _probs = sess.run(softmax, feed_dict={images:_data})\n",
    "    _c = _probs.argmax(axis=-1)\n",
    "    _df = pd.DataFrame({'probability':_probs.max(axis=-1),\n",
    "                       'class':_c, 'dataset':f})\n",
    "    df_list.append(_df)\n",
    "\n",
    "xdf = pd.concat(df_list, axis=0)"
   ]
  },
  {
   "cell_type": "code",
   "execution_count": 12,
   "metadata": {},
   "outputs": [
    {
     "data": {
      "text/html": [
       "<div>\n",
       "<style scoped>\n",
       "    .dataframe tbody tr th:only-of-type {\n",
       "        vertical-align: middle;\n",
       "    }\n",
       "\n",
       "    .dataframe tbody tr th {\n",
       "        vertical-align: top;\n",
       "    }\n",
       "\n",
       "    .dataframe thead th {\n",
       "        text-align: right;\n",
       "    }\n",
       "</style>\n",
       "<table border=\"1\" class=\"dataframe\">\n",
       "  <thead>\n",
       "    <tr style=\"text-align: right;\">\n",
       "      <th></th>\n",
       "      <th>probability</th>\n",
       "      <th>class</th>\n",
       "      <th>dataset</th>\n",
       "    </tr>\n",
       "  </thead>\n",
       "  <tbody>\n",
       "    <tr>\n",
       "      <th>0</th>\n",
       "      <td>0.720365</td>\n",
       "      <td>4</td>\n",
       "      <td>Data/Male/npfiles/Tifs_Snail_Male_R1.npy</td>\n",
       "    </tr>\n",
       "    <tr>\n",
       "      <th>1</th>\n",
       "      <td>0.969186</td>\n",
       "      <td>6</td>\n",
       "      <td>Data/Male/npfiles/Tifs_Snail_Male_R1.npy</td>\n",
       "    </tr>\n",
       "    <tr>\n",
       "      <th>2</th>\n",
       "      <td>0.994857</td>\n",
       "      <td>0</td>\n",
       "      <td>Data/Male/npfiles/Tifs_Snail_Male_R1.npy</td>\n",
       "    </tr>\n",
       "    <tr>\n",
       "      <th>3</th>\n",
       "      <td>0.725893</td>\n",
       "      <td>6</td>\n",
       "      <td>Data/Male/npfiles/Tifs_Snail_Male_R1.npy</td>\n",
       "    </tr>\n",
       "    <tr>\n",
       "      <th>4</th>\n",
       "      <td>0.636035</td>\n",
       "      <td>4</td>\n",
       "      <td>Data/Male/npfiles/Tifs_Snail_Male_R1.npy</td>\n",
       "    </tr>\n",
       "  </tbody>\n",
       "</table>\n",
       "</div>"
      ],
      "text/plain": [
       "   probability  class                                   dataset\n",
       "0     0.720365      4  Data/Male/npfiles/Tifs_Snail_Male_R1.npy\n",
       "1     0.969186      6  Data/Male/npfiles/Tifs_Snail_Male_R1.npy\n",
       "2     0.994857      0  Data/Male/npfiles/Tifs_Snail_Male_R1.npy\n",
       "3     0.725893      6  Data/Male/npfiles/Tifs_Snail_Male_R1.npy\n",
       "4     0.636035      4  Data/Male/npfiles/Tifs_Snail_Male_R1.npy"
      ]
     },
     "execution_count": 12,
     "metadata": {},
     "output_type": "execute_result"
    }
   ],
   "source": [
    "xdf.head()"
   ]
  },
  {
   "cell_type": "markdown",
   "metadata": {},
   "source": [
    "### Make a bar plot\n",
    "\n",
    "Using the pandas dataframe created above, a plot of the counts in each class can be made."
   ]
  },
  {
   "cell_type": "code",
   "execution_count": 16,
   "metadata": {},
   "outputs": [
    {
     "data": {
      "text/plain": [
       "<AxesSubplot:xlabel='class', ylabel='probability'>"
      ]
     },
     "execution_count": 16,
     "metadata": {},
     "output_type": "execute_result"
    },
    {
     "data": {
      "image/png": "[encoded data removed]",
      "text/plain": [
       "<Figure size 432x288 with 1 Axes>"
      ]
     },
     "metadata": {
      "needs_background": "light"
     },
     "output_type": "display_data"
    }
   ],
   "source": [
    "pv = xdf.groupby(['dataset','class']).agg('count').reset_index()\n",
    "sns.barplot(data=pv, x='class', y='probability')\n",
    "sns.stripplot(data=pv, x='class', y='probability', color='#444444')"
   ]
  },
  {
   "cell_type": "code",
   "execution_count": null,
   "metadata": {},
   "outputs": [],
   "source": []
  }
 ],
 "metadata": {
  "kernelspec": {
   "display_name": "image3c",
   "language": "python",
   "name": "image3c"
  },
  "language_info": {
   "codemirror_mode": {
    "name": "ipython",
    "version": 3
   },
   "file_extension": ".py",
   "mimetype": "text/x-python",
   "name": "python",
   "nbconvert_exporter": "python",
   "pygments_lexer": "ipython3",
   "version": "3.7.10"
  }
 },
 "nbformat": 4,
 "nbformat_minor": 2
}
